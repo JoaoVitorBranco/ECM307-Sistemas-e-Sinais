{
 "cells": [
  {
   "attachments": {},
   "cell_type": "markdown",
   "metadata": {},
   "source": [
    "0 - Importando pacotes"
   ]
  },
  {
   "cell_type": "code",
   "execution_count": 1,
   "metadata": {},
   "outputs": [],
   "source": [
    "import sympy as smp\n",
    "import numpy as np\n",
    "import matplotlib.pyplot as plt"
   ]
  },
  {
   "attachments": {},
   "cell_type": "markdown",
   "metadata": {},
   "source": [
    "1 - Definindo variáveis"
   ]
  },
  {
   "cell_type": "code",
   "execution_count": 8,
   "metadata": {},
   "outputs": [
    {
     "data": {
      "text/plain": [
       "array([ 1.,  2.,  3.,  4.,  5.,  6.,  7.,  8.,  9., 10., 11., 12., 13.,\n",
       "       14., 15., 16., 17., 18., 19., 20.])"
      ]
     },
     "execution_count": 8,
     "metadata": {},
     "output_type": "execute_result"
    }
   ],
   "source": [
    "t, n = smp.symbols('t n')\n",
    "\n",
    "DG = 7\n",
    "Apos = DG\n",
    "Aneg = -DG\n",
    "T0 = -DG/2\n",
    "T1 = DG/2\n",
    "T2 = 4.5*DG\n",
    "w = 2*smp.pi/(T2-T0)\n",
    "\n",
    "n_arr = np.linspace(1,20,20)\n",
    "n_arr"
   ]
  },
  {
   "attachments": {},
   "cell_type": "markdown",
   "metadata": {},
   "source": [
    "2 - Definindo funções"
   ]
  },
  {
   "cell_type": "code",
   "execution_count": 37,
   "metadata": {},
   "outputs": [],
   "source": [
    "xa = smp.cos(n*w*t)\n",
    "xb = smp.sin(n*w*t)\n",
    "\n",
    "# Teste para verificar se as funções estão certas\n",
    "\n",
    "# xa_func = smp.lambdify((t, n), xa)\n",
    "# xb_func = smp.lambdify((t, n), xb)\n",
    "\n",
    "# fig = plt.figure(1)\n",
    "# plt.plot(np.linspace(0, 4*float(smp.pi/w), 100), xa_func(1, np.linspace(0, 4*float(smp.pi/w), 100)))\n",
    "# plt.plot(np.linspace(0, 4*float(smp.pi/w), 100), xb_func(1, np.linspace(0, 4*float(smp.pi/w), 100)))\n",
    "# plt.show()"
   ]
  },
  {
   "attachments": {},
   "cell_type": "markdown",
   "metadata": {},
   "source": [
    "3 - Achando vetores com coeficientes $a_n\\:\\mathrm{e}\\:b_n$"
   ]
  },
  {
   "attachments": {},
   "cell_type": "markdown",
   "metadata": {},
   "source": [
    "Definindo funções para calcular $a_n\\:\\mathrm{e}\\:b_n$"
   ]
  },
  {
   "cell_type": "code",
   "execution_count": 61,
   "metadata": {},
   "outputs": [],
   "source": [
    "def calc_func(xx):\n",
    "    xN = smp.integrate(Apos*xx, (t, T0, T1)) + smp.integrate(Aneg*xx, (t, T1, T2))\n",
    "    xD = smp.integrate(xx**2, (t, T0, T2))\n",
    "    xn_coef = xN/xD\n",
    "    return xn_coef"
   ]
  },
  {
   "attachments": {},
   "cell_type": "markdown",
   "metadata": {},
   "source": [
    "Definindo $a_n$"
   ]
  },
  {
   "cell_type": "code",
   "execution_count": 74,
   "metadata": {},
   "outputs": [
    {
     "data": {
      "text/plain": [
       "array([(-122.5*sin(1.8*pi) + 367.5*sin(0.2*pi))/(4.375*sin(1.6*pi) + 4.375*sin(0.4*pi) + 17.5*pi),\n",
       "       (-61.25*sin(1.6*pi) + 183.75*sin(0.4*pi))/(2.1875*sin(1.2*pi) + 2.1875*sin(0.2*pi) + 17.5*pi),\n",
       "       (-40.8333333333333*sin(1.4*pi) + 122.5*sin(0.6*pi))/(1.45833333333333*sin(1.2*pi) + 1.45833333333333*sin(0.800000000000001*pi) + 17.5*pi),\n",
       "       (-30.625*sin(1.2*pi) + 91.875*sin(0.8*pi))/(1.09375*sin(1.6*pi) + 1.09375*sin(0.4*pi) + 17.5*pi),\n",
       "       73.5*sin(1.0*pi)/(0.875*sin(2.0*pi) + 17.5*pi),\n",
       "       (61.25*sin(1.2*pi) - 20.4166666666667*sin(0.800000000000001*pi))/(0.729166666666667*sin(1.6*pi) + 0.729166666666667*sin(0.4*pi) + 17.5*pi),\n",
       "       (52.5*sin(1.4*pi) - 17.5*sin(0.6*pi))/(0.625*sin(1.2*pi) + 0.625*sin(0.8*pi) + 17.5*pi),\n",
       "       (45.9375*sin(1.6*pi) - 15.3125*sin(0.4*pi))/(0.546875*sin(1.2*pi) + 0.546875*sin(0.199999999999999*pi) + 17.5*pi),\n",
       "       (40.8333333333333*sin(1.8*pi) - 13.6111111111111*sin(0.199999999999999*pi))/(0.486111111111111*sin(1.6*pi) + 0.486111111111111*sin(0.399999999999999*pi) + 17.5*pi),\n",
       "       36.75*sin(2.0*pi)/(0.4375*sin(2.0*pi) + 17.5*pi),\n",
       "       (-11.1363636363636*sin(1.8*pi) + 33.4090909090909*sin(0.2*pi))/(0.397727272727273*sin(1.6*pi) + 0.397727272727273*sin(0.399999999999999*pi) + 17.5*pi),\n",
       "       (-10.2083333333333*sin(1.6*pi) + 30.625*sin(0.4*pi))/(0.364583333333333*sin(1.2*pi) + 0.364583333333333*sin(0.2*pi) + 17.5*pi),\n",
       "       (-9.42307692307692*sin(1.4*pi) + 28.2692307692308*sin(0.6*pi))/(0.336538461538462*sin(1.2*pi) + 0.336538461538462*sin(0.800000000000004*pi) + 17.5*pi),\n",
       "       (-8.75*sin(1.2*pi) + 26.25*sin(0.8*pi))/(0.3125*sin(1.6*pi) + 0.3125*sin(0.399999999999999*pi) + 17.5*pi),\n",
       "       24.5*sin(1.0*pi)/(0.291666666666667*sin(2.0*pi) + 17.5*pi),\n",
       "       (22.96875*sin(1.2*pi) - 7.65625*sin(0.800000000000001*pi))/(0.2734375*sin(1.6*pi) + 0.2734375*sin(0.399999999999999*pi) + 17.5*pi),\n",
       "       (21.6176470588235*sin(1.4*pi) - 7.20588235294118*sin(0.600000000000001*pi))/(0.257352941176471*sin(1.2*pi) + 0.257352941176471*sin(0.8*pi) + 17.5*pi),\n",
       "       (20.4166666666667*sin(1.6*pi) - 6.80555555555556*sin(0.399999999999999*pi))/(0.243055555555556*sin(1.2*pi) + 0.243055555555556*sin(0.200000000000003*pi) + 17.5*pi),\n",
       "       (19.3421052631579*sin(1.8*pi) - 6.44736842105263*sin(0.200000000000003*pi))/(0.230263157894737*sin(1.6*pi) + 0.230263157894737*sin(0.400000000000006*pi) + 17.5*pi),\n",
       "       18.375*sin(2.0*pi)/(0.21875*sin(2.0*pi) + 17.5*pi)], dtype=object)"
      ]
     },
     "execution_count": 74,
     "metadata": {},
     "output_type": "execute_result"
    }
   ],
   "source": [
    "an_coef = calc_func(xa)\n",
    "an_num = np.array([an_coef.subs(n, i).simplify() for i in n_arr])\n",
    "an_num"
   ]
  },
  {
   "attachments": {},
   "cell_type": "markdown",
   "metadata": {},
   "source": [
    "Definindo $b_n$"
   ]
  },
  {
   "cell_type": "code",
   "execution_count": 76,
   "metadata": {},
   "outputs": [
    {
     "data": {
      "text/plain": [
       "array([122.5*(-cos(1.8*pi) + cos(0.2*pi))/(-17.5*pi + 4.375*sin(1.6*pi) + 4.375*sin(0.4*pi)),\n",
       "       61.25*(-cos(1.6*pi) + cos(0.4*pi))/(-17.5*pi + 2.1875*sin(1.2*pi) + 2.1875*sin(0.2*pi)),\n",
       "       40.8333333333333*(cos(0.6*pi) - cos(1.4*pi))/(-17.5*pi + 1.45833333333333*sin(1.2*pi) + 1.45833333333333*sin(0.800000000000001*pi)),\n",
       "       30.625*(cos(0.8*pi) - cos(1.2*pi))/(-17.5*pi + 1.09375*sin(1.6*pi) + 1.09375*sin(0.4*pi)),\n",
       "       24.5*(cos(1.0*pi) + 1)/(-17.5*pi + 0.875*sin(2.0*pi)),\n",
       "       20.4166666666667*(cos(1.2*pi) - cos(0.800000000000001*pi))/(-17.5*pi + 0.729166666666667*sin(1.6*pi) + 0.729166666666667*sin(0.4*pi)),\n",
       "       17.5*(cos(1.4*pi) - cos(0.6*pi))/(-17.5*pi + 0.625*sin(1.2*pi) + 0.625*sin(0.8*pi)),\n",
       "       15.3125*(-cos(0.4*pi) + cos(1.6*pi))/(-17.5*pi + 0.546875*sin(1.2*pi) + 0.546875*sin(0.199999999999999*pi)),\n",
       "       13.6111111111111*(-cos(0.199999999999999*pi) + cos(1.8*pi))/(-17.5*pi + 0.486111111111111*sin(1.6*pi) + 0.486111111111111*sin(0.399999999999999*pi)),\n",
       "       12.25*(1 - cos(2.0*pi))/(-0.4375*sin(2.0*pi) + 17.5*pi),\n",
       "       11.1363636363636*(-cos(1.8*pi) + cos(0.2*pi))/(-17.5*pi + 0.397727272727273*sin(1.6*pi) + 0.397727272727273*sin(0.399999999999999*pi)),\n",
       "       10.2083333333333*(-cos(1.6*pi) + cos(0.4*pi))/(-17.5*pi + 0.364583333333333*sin(1.2*pi) + 0.364583333333333*sin(0.2*pi)),\n",
       "       9.42307692307692*(cos(0.6*pi) - cos(1.4*pi))/(-17.5*pi + 0.336538461538462*sin(1.2*pi) + 0.336538461538462*sin(0.800000000000004*pi)),\n",
       "       8.75*(cos(0.8*pi) - cos(1.2*pi))/(-17.5*pi + 0.3125*sin(1.6*pi) + 0.3125*sin(0.399999999999999*pi)),\n",
       "       8.16666666666667*(cos(1.0*pi) + 1)/(-17.5*pi + 0.291666666666667*sin(2.0*pi)),\n",
       "       7.65625*(cos(1.2*pi) - cos(0.800000000000001*pi))/(-17.5*pi + 0.2734375*sin(1.6*pi) + 0.2734375*sin(0.399999999999999*pi)),\n",
       "       7.20588235294118*(cos(1.4*pi) - cos(0.600000000000001*pi))/(-17.5*pi + 0.257352941176471*sin(1.2*pi) + 0.257352941176471*sin(0.8*pi)),\n",
       "       6.80555555555556*(-cos(0.399999999999999*pi) + cos(1.6*pi))/(-17.5*pi + 0.243055555555556*sin(1.2*pi) + 0.243055555555556*sin(0.200000000000003*pi)),\n",
       "       6.44736842105263*(-cos(0.200000000000003*pi) + cos(1.8*pi))/(-17.5*pi + 0.230263157894737*sin(1.6*pi) + 0.230263157894737*sin(0.400000000000006*pi)),\n",
       "       6.125*(1 - cos(2.0*pi))/(-0.21875*sin(2.0*pi) + 17.5*pi)],\n",
       "      dtype=object)"
      ]
     },
     "execution_count": 76,
     "metadata": {},
     "output_type": "execute_result"
    }
   ],
   "source": [
    "bn_coef = calc_func(xb)\n",
    "bn_num = np.array([bn_coef.subs(n, i).simplify() for i in n_arr])\n",
    "bn_num"
   ]
  },
  {
   "attachments": {},
   "cell_type": "markdown",
   "metadata": {},
   "source": [
    "Definindo coeficiente $a_0$ e $b_0$"
   ]
  },
  {
   "cell_type": "code",
   "execution_count": 77,
   "metadata": {},
   "outputs": [
    {
     "data": {
      "text/latex": [
       "$\\displaystyle -4.2$"
      ],
      "text/plain": [
       "-4.20000000000000"
      ]
     },
     "metadata": {},
     "output_type": "display_data"
    },
    {
     "data": {
      "text/latex": [
       "$\\displaystyle \\text{NaN}$"
      ],
      "text/plain": [
       "nan"
      ]
     },
     "metadata": {},
     "output_type": "display_data"
    }
   ],
   "source": [
    "a0 = an_coef.subs(n, 0)\n",
    "b0 = bn_coef.subs(n, 0)\n",
    "\n",
    "display(a0)\n",
    "display(b0)"
   ]
  },
  {
   "attachments": {},
   "cell_type": "markdown",
   "metadata": {},
   "source": [
    "Como o valor de $b_0$ deu $NaN$, será substituido por 0"
   ]
  },
  {
   "cell_type": "code",
   "execution_count": 78,
   "metadata": {},
   "outputs": [
    {
     "data": {
      "text/latex": [
       "$\\displaystyle -4.2$"
      ],
      "text/plain": [
       "-4.20000000000000"
      ]
     },
     "execution_count": 78,
     "metadata": {},
     "output_type": "execute_result"
    }
   ],
   "source": [
    "b0 = 0\n",
    "ajuste_total = a0 + b0\n",
    "ajuste_total"
   ]
  },
  {
   "attachments": {},
   "cell_type": "markdown",
   "metadata": {},
   "source": [
    "4 - Descobrindo aproximação para a função $g(t)$ denominada $g_s(t)$"
   ]
  },
  {
   "cell_type": "code",
   "execution_count": 105,
   "metadata": {},
   "outputs": [
    {
     "data": {
      "text/latex": [
       "$\\displaystyle \\frac{122.5 \\left(- \\cos{\\left(1.8 \\pi \\right)} + \\cos{\\left(0.2 \\pi \\right)}\\right) \\sin{\\left(0.0571428571428571 \\pi t \\right)}}{- 17.5 \\pi + 4.375 \\sin{\\left(1.6 \\pi \\right)} + 4.375 \\sin{\\left(0.4 \\pi \\right)}} + \\frac{61.25 \\left(- \\cos{\\left(1.6 \\pi \\right)} + \\cos{\\left(0.4 \\pi \\right)}\\right) \\sin{\\left(0.114285714285714 \\pi t \\right)}}{- 17.5 \\pi + 2.1875 \\sin{\\left(1.2 \\pi \\right)} + 2.1875 \\sin{\\left(0.2 \\pi \\right)}} + \\frac{40.8333333333333 \\left(\\cos{\\left(0.6 \\pi \\right)} - \\cos{\\left(1.4 \\pi \\right)}\\right) \\sin{\\left(0.171428571428571 \\pi t \\right)}}{- 17.5 \\pi + 1.45833333333333 \\sin{\\left(1.2 \\pi \\right)} + 1.45833333333333 \\sin{\\left(0.800000000000001 \\pi \\right)}} + \\frac{30.625 \\left(\\cos{\\left(0.8 \\pi \\right)} - \\cos{\\left(1.2 \\pi \\right)}\\right) \\sin{\\left(0.228571428571429 \\pi t \\right)}}{- 17.5 \\pi + 1.09375 \\sin{\\left(1.6 \\pi \\right)} + 1.09375 \\sin{\\left(0.4 \\pi \\right)}} + \\frac{24.5 \\left(\\cos{\\left(1.0 \\pi \\right)} + 1\\right) \\sin{\\left(0.285714285714286 \\pi t \\right)}}{- 17.5 \\pi + 0.875 \\sin{\\left(2.0 \\pi \\right)}} + \\frac{20.4166666666667 \\left(\\cos{\\left(1.2 \\pi \\right)} - \\cos{\\left(0.800000000000001 \\pi \\right)}\\right) \\sin{\\left(0.342857142857143 \\pi t \\right)}}{- 17.5 \\pi + 0.729166666666667 \\sin{\\left(1.6 \\pi \\right)} + 0.729166666666667 \\sin{\\left(0.4 \\pi \\right)}} + \\frac{17.5 \\left(\\cos{\\left(1.4 \\pi \\right)} - \\cos{\\left(0.6 \\pi \\right)}\\right) \\sin{\\left(0.4 \\pi t \\right)}}{- 17.5 \\pi + 0.625 \\sin{\\left(1.2 \\pi \\right)} + 0.625 \\sin{\\left(0.8 \\pi \\right)}} + \\frac{15.3125 \\left(- \\cos{\\left(0.4 \\pi \\right)} + \\cos{\\left(1.6 \\pi \\right)}\\right) \\sin{\\left(0.457142857142857 \\pi t \\right)}}{- 17.5 \\pi + 0.546875 \\sin{\\left(1.2 \\pi \\right)} + 0.546875 \\sin{\\left(0.199999999999999 \\pi \\right)}} + \\frac{13.6111111111111 \\left(- \\cos{\\left(0.199999999999999 \\pi \\right)} + \\cos{\\left(1.8 \\pi \\right)}\\right) \\sin{\\left(0.514285714285714 \\pi t \\right)}}{- 17.5 \\pi + 0.486111111111111 \\sin{\\left(1.6 \\pi \\right)} + 0.486111111111111 \\sin{\\left(0.399999999999999 \\pi \\right)}} + \\frac{12.25 \\left(1 - \\cos{\\left(2.0 \\pi \\right)}\\right) \\sin{\\left(0.571428571428571 \\pi t \\right)}}{- 0.4375 \\sin{\\left(2.0 \\pi \\right)} + 17.5 \\pi} + \\frac{11.1363636363636 \\left(- \\cos{\\left(1.8 \\pi \\right)} + \\cos{\\left(0.2 \\pi \\right)}\\right) \\sin{\\left(0.628571428571429 \\pi t \\right)}}{- 17.5 \\pi + 0.397727272727273 \\sin{\\left(1.6 \\pi \\right)} + 0.397727272727273 \\sin{\\left(0.399999999999999 \\pi \\right)}} + \\frac{10.2083333333333 \\left(- \\cos{\\left(1.6 \\pi \\right)} + \\cos{\\left(0.4 \\pi \\right)}\\right) \\sin{\\left(0.685714285714286 \\pi t \\right)}}{- 17.5 \\pi + 0.364583333333333 \\sin{\\left(1.2 \\pi \\right)} + 0.364583333333333 \\sin{\\left(0.2 \\pi \\right)}} + \\frac{9.42307692307692 \\left(\\cos{\\left(0.6 \\pi \\right)} - \\cos{\\left(1.4 \\pi \\right)}\\right) \\sin{\\left(0.742857142857143 \\pi t \\right)}}{- 17.5 \\pi + 0.336538461538462 \\sin{\\left(1.2 \\pi \\right)} + 0.336538461538462 \\sin{\\left(0.800000000000004 \\pi \\right)}} + \\frac{8.75 \\left(\\cos{\\left(0.8 \\pi \\right)} - \\cos{\\left(1.2 \\pi \\right)}\\right) \\sin{\\left(0.8 \\pi t \\right)}}{- 17.5 \\pi + 0.3125 \\sin{\\left(1.6 \\pi \\right)} + 0.3125 \\sin{\\left(0.399999999999999 \\pi \\right)}} + \\frac{8.16666666666667 \\left(\\cos{\\left(1.0 \\pi \\right)} + 1\\right) \\sin{\\left(0.857142857142857 \\pi t \\right)}}{- 17.5 \\pi + 0.291666666666667 \\sin{\\left(2.0 \\pi \\right)}} + \\frac{7.65625 \\left(\\cos{\\left(1.2 \\pi \\right)} - \\cos{\\left(0.800000000000001 \\pi \\right)}\\right) \\sin{\\left(0.914285714285714 \\pi t \\right)}}{- 17.5 \\pi + 0.2734375 \\sin{\\left(1.6 \\pi \\right)} + 0.2734375 \\sin{\\left(0.399999999999999 \\pi \\right)}} + \\frac{7.20588235294118 \\left(\\cos{\\left(1.4 \\pi \\right)} - \\cos{\\left(0.600000000000001 \\pi \\right)}\\right) \\sin{\\left(0.971428571428571 \\pi t \\right)}}{- 17.5 \\pi + 0.257352941176471 \\sin{\\left(1.2 \\pi \\right)} + 0.257352941176471 \\sin{\\left(0.8 \\pi \\right)}} + \\frac{6.80555555555556 \\left(- \\cos{\\left(0.399999999999999 \\pi \\right)} + \\cos{\\left(1.6 \\pi \\right)}\\right) \\sin{\\left(1.02857142857143 \\pi t \\right)}}{- 17.5 \\pi + 0.243055555555556 \\sin{\\left(1.2 \\pi \\right)} + 0.243055555555556 \\sin{\\left(0.200000000000003 \\pi \\right)}} + \\frac{6.44736842105263 \\left(- \\cos{\\left(0.200000000000003 \\pi \\right)} + \\cos{\\left(1.8 \\pi \\right)}\\right) \\sin{\\left(1.08571428571429 \\pi t \\right)}}{- 17.5 \\pi + 0.230263157894737 \\sin{\\left(1.6 \\pi \\right)} + 0.230263157894737 \\sin{\\left(0.400000000000006 \\pi \\right)}} + \\frac{6.125 \\left(1 - \\cos{\\left(2.0 \\pi \\right)}\\right) \\sin{\\left(1.14285714285714 \\pi t \\right)}}{- 0.21875 \\sin{\\left(2.0 \\pi \\right)} + 17.5 \\pi} + \\frac{\\left(- 122.5 \\sin{\\left(1.8 \\pi \\right)} + 367.5 \\sin{\\left(0.2 \\pi \\right)}\\right) \\cos{\\left(0.0571428571428571 \\pi t \\right)}}{4.375 \\sin{\\left(1.6 \\pi \\right)} + 4.375 \\sin{\\left(0.4 \\pi \\right)} + 17.5 \\pi} + \\frac{\\left(- 61.25 \\sin{\\left(1.6 \\pi \\right)} + 183.75 \\sin{\\left(0.4 \\pi \\right)}\\right) \\cos{\\left(0.114285714285714 \\pi t \\right)}}{2.1875 \\sin{\\left(1.2 \\pi \\right)} + 2.1875 \\sin{\\left(0.2 \\pi \\right)} + 17.5 \\pi} + \\frac{\\left(- 40.8333333333333 \\sin{\\left(1.4 \\pi \\right)} + 122.5 \\sin{\\left(0.6 \\pi \\right)}\\right) \\cos{\\left(0.171428571428571 \\pi t \\right)}}{1.45833333333333 \\sin{\\left(1.2 \\pi \\right)} + 1.45833333333333 \\sin{\\left(0.800000000000001 \\pi \\right)} + 17.5 \\pi} + \\frac{\\left(- 30.625 \\sin{\\left(1.2 \\pi \\right)} + 91.875 \\sin{\\left(0.8 \\pi \\right)}\\right) \\cos{\\left(0.228571428571429 \\pi t \\right)}}{1.09375 \\sin{\\left(1.6 \\pi \\right)} + 1.09375 \\sin{\\left(0.4 \\pi \\right)} + 17.5 \\pi} + \\frac{73.5 \\sin{\\left(1.0 \\pi \\right)} \\cos{\\left(0.285714285714286 \\pi t \\right)}}{0.875 \\sin{\\left(2.0 \\pi \\right)} + 17.5 \\pi} + \\frac{\\left(61.25 \\sin{\\left(1.2 \\pi \\right)} - 20.4166666666667 \\sin{\\left(0.800000000000001 \\pi \\right)}\\right) \\cos{\\left(0.342857142857143 \\pi t \\right)}}{0.729166666666667 \\sin{\\left(1.6 \\pi \\right)} + 0.729166666666667 \\sin{\\left(0.4 \\pi \\right)} + 17.5 \\pi} + \\frac{\\left(52.5 \\sin{\\left(1.4 \\pi \\right)} - 17.5 \\sin{\\left(0.6 \\pi \\right)}\\right) \\cos{\\left(0.4 \\pi t \\right)}}{0.625 \\sin{\\left(1.2 \\pi \\right)} + 0.625 \\sin{\\left(0.8 \\pi \\right)} + 17.5 \\pi} + \\frac{\\left(45.9375 \\sin{\\left(1.6 \\pi \\right)} - 15.3125 \\sin{\\left(0.4 \\pi \\right)}\\right) \\cos{\\left(0.457142857142857 \\pi t \\right)}}{0.546875 \\sin{\\left(1.2 \\pi \\right)} + 0.546875 \\sin{\\left(0.199999999999999 \\pi \\right)} + 17.5 \\pi} + \\frac{\\left(40.8333333333333 \\sin{\\left(1.8 \\pi \\right)} - 13.6111111111111 \\sin{\\left(0.199999999999999 \\pi \\right)}\\right) \\cos{\\left(0.514285714285714 \\pi t \\right)}}{0.486111111111111 \\sin{\\left(1.6 \\pi \\right)} + 0.486111111111111 \\sin{\\left(0.399999999999999 \\pi \\right)} + 17.5 \\pi} + \\frac{36.75 \\sin{\\left(2.0 \\pi \\right)} \\cos{\\left(0.571428571428571 \\pi t \\right)}}{0.4375 \\sin{\\left(2.0 \\pi \\right)} + 17.5 \\pi} + \\frac{\\left(- 11.1363636363636 \\sin{\\left(1.8 \\pi \\right)} + 33.4090909090909 \\sin{\\left(0.2 \\pi \\right)}\\right) \\cos{\\left(0.628571428571429 \\pi t \\right)}}{0.397727272727273 \\sin{\\left(1.6 \\pi \\right)} + 0.397727272727273 \\sin{\\left(0.399999999999999 \\pi \\right)} + 17.5 \\pi} + \\frac{\\left(- 10.2083333333333 \\sin{\\left(1.6 \\pi \\right)} + 30.625 \\sin{\\left(0.4 \\pi \\right)}\\right) \\cos{\\left(0.685714285714286 \\pi t \\right)}}{0.364583333333333 \\sin{\\left(1.2 \\pi \\right)} + 0.364583333333333 \\sin{\\left(0.2 \\pi \\right)} + 17.5 \\pi} + \\frac{\\left(- 9.42307692307692 \\sin{\\left(1.4 \\pi \\right)} + 28.2692307692308 \\sin{\\left(0.6 \\pi \\right)}\\right) \\cos{\\left(0.742857142857143 \\pi t \\right)}}{0.336538461538462 \\sin{\\left(1.2 \\pi \\right)} + 0.336538461538462 \\sin{\\left(0.800000000000004 \\pi \\right)} + 17.5 \\pi} + \\frac{\\left(- 8.75 \\sin{\\left(1.2 \\pi \\right)} + 26.25 \\sin{\\left(0.8 \\pi \\right)}\\right) \\cos{\\left(0.8 \\pi t \\right)}}{0.3125 \\sin{\\left(1.6 \\pi \\right)} + 0.3125 \\sin{\\left(0.399999999999999 \\pi \\right)} + 17.5 \\pi} + \\frac{24.5 \\sin{\\left(1.0 \\pi \\right)} \\cos{\\left(0.857142857142857 \\pi t \\right)}}{0.291666666666667 \\sin{\\left(2.0 \\pi \\right)} + 17.5 \\pi} + \\frac{\\left(22.96875 \\sin{\\left(1.2 \\pi \\right)} - 7.65625 \\sin{\\left(0.800000000000001 \\pi \\right)}\\right) \\cos{\\left(0.914285714285714 \\pi t \\right)}}{0.2734375 \\sin{\\left(1.6 \\pi \\right)} + 0.2734375 \\sin{\\left(0.399999999999999 \\pi \\right)} + 17.5 \\pi} + \\frac{\\left(21.6176470588235 \\sin{\\left(1.4 \\pi \\right)} - 7.20588235294118 \\sin{\\left(0.600000000000001 \\pi \\right)}\\right) \\cos{\\left(0.971428571428571 \\pi t \\right)}}{0.257352941176471 \\sin{\\left(1.2 \\pi \\right)} + 0.257352941176471 \\sin{\\left(0.8 \\pi \\right)} + 17.5 \\pi} + \\frac{\\left(20.4166666666667 \\sin{\\left(1.6 \\pi \\right)} - 6.80555555555556 \\sin{\\left(0.399999999999999 \\pi \\right)}\\right) \\cos{\\left(1.02857142857143 \\pi t \\right)}}{0.243055555555556 \\sin{\\left(1.2 \\pi \\right)} + 0.243055555555556 \\sin{\\left(0.200000000000003 \\pi \\right)} + 17.5 \\pi} + \\frac{\\left(19.3421052631579 \\sin{\\left(1.8 \\pi \\right)} - 6.44736842105263 \\sin{\\left(0.200000000000003 \\pi \\right)}\\right) \\cos{\\left(1.08571428571429 \\pi t \\right)}}{0.230263157894737 \\sin{\\left(1.6 \\pi \\right)} + 0.230263157894737 \\sin{\\left(0.400000000000006 \\pi \\right)} + 17.5 \\pi} + \\frac{18.375 \\sin{\\left(2.0 \\pi \\right)} \\cos{\\left(1.14285714285714 \\pi t \\right)}}{0.21875 \\sin{\\left(2.0 \\pi \\right)} + 17.5 \\pi} - 4.2$"
      ],
      "text/plain": [
       "122.5*(-cos(1.8*pi) + cos(0.2*pi))*sin(0.0571428571428571*pi*t)/(-17.5*pi + 4.375*sin(1.6*pi) + 4.375*sin(0.4*pi)) + 61.25*(-cos(1.6*pi) + cos(0.4*pi))*sin(0.114285714285714*pi*t)/(-17.5*pi + 2.1875*sin(1.2*pi) + 2.1875*sin(0.2*pi)) + 40.8333333333333*(cos(0.6*pi) - cos(1.4*pi))*sin(0.171428571428571*pi*t)/(-17.5*pi + 1.45833333333333*sin(1.2*pi) + 1.45833333333333*sin(0.800000000000001*pi)) + 30.625*(cos(0.8*pi) - cos(1.2*pi))*sin(0.228571428571429*pi*t)/(-17.5*pi + 1.09375*sin(1.6*pi) + 1.09375*sin(0.4*pi)) + 24.5*(cos(1.0*pi) + 1)*sin(0.285714285714286*pi*t)/(-17.5*pi + 0.875*sin(2.0*pi)) + 20.4166666666667*(cos(1.2*pi) - cos(0.800000000000001*pi))*sin(0.342857142857143*pi*t)/(-17.5*pi + 0.729166666666667*sin(1.6*pi) + 0.729166666666667*sin(0.4*pi)) + 17.5*(cos(1.4*pi) - cos(0.6*pi))*sin(0.4*pi*t)/(-17.5*pi + 0.625*sin(1.2*pi) + 0.625*sin(0.8*pi)) + 15.3125*(-cos(0.4*pi) + cos(1.6*pi))*sin(0.457142857142857*pi*t)/(-17.5*pi + 0.546875*sin(1.2*pi) + 0.546875*sin(0.199999999999999*pi)) + 13.6111111111111*(-cos(0.199999999999999*pi) + cos(1.8*pi))*sin(0.514285714285714*pi*t)/(-17.5*pi + 0.486111111111111*sin(1.6*pi) + 0.486111111111111*sin(0.399999999999999*pi)) + 12.25*(1 - cos(2.0*pi))*sin(0.571428571428571*pi*t)/(-0.4375*sin(2.0*pi) + 17.5*pi) + 11.1363636363636*(-cos(1.8*pi) + cos(0.2*pi))*sin(0.628571428571429*pi*t)/(-17.5*pi + 0.397727272727273*sin(1.6*pi) + 0.397727272727273*sin(0.399999999999999*pi)) + 10.2083333333333*(-cos(1.6*pi) + cos(0.4*pi))*sin(0.685714285714286*pi*t)/(-17.5*pi + 0.364583333333333*sin(1.2*pi) + 0.364583333333333*sin(0.2*pi)) + 9.42307692307692*(cos(0.6*pi) - cos(1.4*pi))*sin(0.742857142857143*pi*t)/(-17.5*pi + 0.336538461538462*sin(1.2*pi) + 0.336538461538462*sin(0.800000000000004*pi)) + 8.75*(cos(0.8*pi) - cos(1.2*pi))*sin(0.8*pi*t)/(-17.5*pi + 0.3125*sin(1.6*pi) + 0.3125*sin(0.399999999999999*pi)) + 8.16666666666667*(cos(1.0*pi) + 1)*sin(0.857142857142857*pi*t)/(-17.5*pi + 0.291666666666667*sin(2.0*pi)) + 7.65625*(cos(1.2*pi) - cos(0.800000000000001*pi))*sin(0.914285714285714*pi*t)/(-17.5*pi + 0.2734375*sin(1.6*pi) + 0.2734375*sin(0.399999999999999*pi)) + 7.20588235294118*(cos(1.4*pi) - cos(0.600000000000001*pi))*sin(0.971428571428571*pi*t)/(-17.5*pi + 0.257352941176471*sin(1.2*pi) + 0.257352941176471*sin(0.8*pi)) + 6.80555555555556*(-cos(0.399999999999999*pi) + cos(1.6*pi))*sin(1.02857142857143*pi*t)/(-17.5*pi + 0.243055555555556*sin(1.2*pi) + 0.243055555555556*sin(0.200000000000003*pi)) + 6.44736842105263*(-cos(0.200000000000003*pi) + cos(1.8*pi))*sin(1.08571428571429*pi*t)/(-17.5*pi + 0.230263157894737*sin(1.6*pi) + 0.230263157894737*sin(0.400000000000006*pi)) + 6.125*(1 - cos(2.0*pi))*sin(1.14285714285714*pi*t)/(-0.21875*sin(2.0*pi) + 17.5*pi) + (-122.5*sin(1.8*pi) + 367.5*sin(0.2*pi))*cos(0.0571428571428571*pi*t)/(4.375*sin(1.6*pi) + 4.375*sin(0.4*pi) + 17.5*pi) + (-61.25*sin(1.6*pi) + 183.75*sin(0.4*pi))*cos(0.114285714285714*pi*t)/(2.1875*sin(1.2*pi) + 2.1875*sin(0.2*pi) + 17.5*pi) + (-40.8333333333333*sin(1.4*pi) + 122.5*sin(0.6*pi))*cos(0.171428571428571*pi*t)/(1.45833333333333*sin(1.2*pi) + 1.45833333333333*sin(0.800000000000001*pi) + 17.5*pi) + (-30.625*sin(1.2*pi) + 91.875*sin(0.8*pi))*cos(0.228571428571429*pi*t)/(1.09375*sin(1.6*pi) + 1.09375*sin(0.4*pi) + 17.5*pi) + 73.5*sin(1.0*pi)*cos(0.285714285714286*pi*t)/(0.875*sin(2.0*pi) + 17.5*pi) + (61.25*sin(1.2*pi) - 20.4166666666667*sin(0.800000000000001*pi))*cos(0.342857142857143*pi*t)/(0.729166666666667*sin(1.6*pi) + 0.729166666666667*sin(0.4*pi) + 17.5*pi) + (52.5*sin(1.4*pi) - 17.5*sin(0.6*pi))*cos(0.4*pi*t)/(0.625*sin(1.2*pi) + 0.625*sin(0.8*pi) + 17.5*pi) + (45.9375*sin(1.6*pi) - 15.3125*sin(0.4*pi))*cos(0.457142857142857*pi*t)/(0.546875*sin(1.2*pi) + 0.546875*sin(0.199999999999999*pi) + 17.5*pi) + (40.8333333333333*sin(1.8*pi) - 13.6111111111111*sin(0.199999999999999*pi))*cos(0.514285714285714*pi*t)/(0.486111111111111*sin(1.6*pi) + 0.486111111111111*sin(0.399999999999999*pi) + 17.5*pi) + 36.75*sin(2.0*pi)*cos(0.571428571428571*pi*t)/(0.4375*sin(2.0*pi) + 17.5*pi) + (-11.1363636363636*sin(1.8*pi) + 33.4090909090909*sin(0.2*pi))*cos(0.628571428571429*pi*t)/(0.397727272727273*sin(1.6*pi) + 0.397727272727273*sin(0.399999999999999*pi) + 17.5*pi) + (-10.2083333333333*sin(1.6*pi) + 30.625*sin(0.4*pi))*cos(0.685714285714286*pi*t)/(0.364583333333333*sin(1.2*pi) + 0.364583333333333*sin(0.2*pi) + 17.5*pi) + (-9.42307692307692*sin(1.4*pi) + 28.2692307692308*sin(0.6*pi))*cos(0.742857142857143*pi*t)/(0.336538461538462*sin(1.2*pi) + 0.336538461538462*sin(0.800000000000004*pi) + 17.5*pi) + (-8.75*sin(1.2*pi) + 26.25*sin(0.8*pi))*cos(0.8*pi*t)/(0.3125*sin(1.6*pi) + 0.3125*sin(0.399999999999999*pi) + 17.5*pi) + 24.5*sin(1.0*pi)*cos(0.857142857142857*pi*t)/(0.291666666666667*sin(2.0*pi) + 17.5*pi) + (22.96875*sin(1.2*pi) - 7.65625*sin(0.800000000000001*pi))*cos(0.914285714285714*pi*t)/(0.2734375*sin(1.6*pi) + 0.2734375*sin(0.399999999999999*pi) + 17.5*pi) + (21.6176470588235*sin(1.4*pi) - 7.20588235294118*sin(0.600000000000001*pi))*cos(0.971428571428571*pi*t)/(0.257352941176471*sin(1.2*pi) + 0.257352941176471*sin(0.8*pi) + 17.5*pi) + (20.4166666666667*sin(1.6*pi) - 6.80555555555556*sin(0.399999999999999*pi))*cos(1.02857142857143*pi*t)/(0.243055555555556*sin(1.2*pi) + 0.243055555555556*sin(0.200000000000003*pi) + 17.5*pi) + (19.3421052631579*sin(1.8*pi) - 6.44736842105263*sin(0.200000000000003*pi))*cos(1.08571428571429*pi*t)/(0.230263157894737*sin(1.6*pi) + 0.230263157894737*sin(0.400000000000006*pi) + 17.5*pi) + 18.375*sin(2.0*pi)*cos(1.14285714285714*pi*t)/(0.21875*sin(2.0*pi) + 17.5*pi) - 4.2"
      ]
     },
     "execution_count": 105,
     "metadata": {},
     "output_type": "execute_result"
    }
   ],
   "source": [
    "gs = ajuste_total\n",
    "\n",
    "for i in n_arr:\n",
    "    gs = gs + an_num[int(i-1)]*xa.subs([(n, i)]) + bn_num[int(i-1)]*xb.subs([(n, i)])\n",
    "\n",
    "gs"
   ]
  },
  {
   "cell_type": "code",
   "execution_count": 107,
   "metadata": {},
   "outputs": [
    {
     "data": {
      "image/png": "[encoded data removed]",
      "text/plain": [
       "<Figure size 432x288 with 1 Axes>"
      ]
     },
     "metadata": {
      "needs_background": "light"
     },
     "output_type": "display_data"
    }
   ],
   "source": [
    "gs_func = smp.lambdify((t), gs)\n",
    "\n",
    "tempo = np.arange(T0,T2,0.1)\n",
    "\n",
    "def g_func(t):\n",
    "    if T0 <= t <= T1:\n",
    "        return Apos\n",
    "    elif T1 < t <= T2:\n",
    "        return Aneg\n",
    "    else:\n",
    "        raise Exception('Valor de t fora do intervalo')\n",
    "\n",
    "g_data = np.array([g_func(t) for t in tempo])\n",
    "\n",
    "plt.plot(tempo, gs_func(tempo))\n",
    "plt.plot(tempo, g_data)\n",
    "plt.title(\"Aproximando $g(t)$ por meio de $g_s(t)$\") \n",
    "plt.xlabel(\"tempo\") \n",
    "plt.ylabel(\"g(t)\")\n",
    "\n",
    "\n",
    "\n",
    "plt.show()"
   ]
  }
 ],
 "metadata": {
  "kernelspec": {
   "display_name": "base",
   "language": "python",
   "name": "python3"
  },
  "language_info": {
   "codemirror_mode": {
    "name": "ipython",
    "version": 3
   },
   "file_extension": ".py",
   "mimetype": "text/x-python",
   "name": "python",
   "nbconvert_exporter": "python",
   "pygments_lexer": "ipython3",
   "version": "3.9.7"
  },
  "orig_nbformat": 4
 },
 "nbformat": 4,
 "nbformat_minor": 2
}
